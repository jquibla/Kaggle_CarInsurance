{
 "cells": [
  {
   "cell_type": "code",
   "execution_count": 91,
   "id": "09c01976",
   "metadata": {},
   "outputs": [],
   "source": [
    "import pandas as pd\n",
    "import numpy as np\n",
    "from sklearn import metrics\n",
    "\n",
    "from sklearn.model_selection import train_test_split\n",
    "from datetime import datetime\n",
    "from sklearn.pipeline import Pipeline\n",
    "from sklearn.preprocessing import OneHotEncoder"
   ]
  },
  {
   "cell_type": "code",
   "execution_count": 77,
   "id": "e02cc130",
   "metadata": {},
   "outputs": [
    {
     "data": {
      "text/html": [
       "<div>\n",
       "<style scoped>\n",
       "    .dataframe tbody tr th:only-of-type {\n",
       "        vertical-align: middle;\n",
       "    }\n",
       "\n",
       "    .dataframe tbody tr th {\n",
       "        vertical-align: top;\n",
       "    }\n",
       "\n",
       "    .dataframe thead th {\n",
       "        text-align: right;\n",
       "    }\n",
       "</style>\n",
       "<table border=\"1\" class=\"dataframe\">\n",
       "  <thead>\n",
       "    <tr style=\"text-align: right;\">\n",
       "      <th></th>\n",
       "      <th>Id</th>\n",
       "      <th>Age</th>\n",
       "      <th>Job</th>\n",
       "      <th>Marital</th>\n",
       "      <th>Education</th>\n",
       "      <th>Default</th>\n",
       "      <th>Balance</th>\n",
       "      <th>HHInsurance</th>\n",
       "      <th>CarLoan</th>\n",
       "      <th>Communication</th>\n",
       "      <th>LastContactDay</th>\n",
       "      <th>LastContactMonth</th>\n",
       "      <th>NoOfContacts</th>\n",
       "      <th>DaysPassed</th>\n",
       "      <th>PrevAttempts</th>\n",
       "      <th>Outcome</th>\n",
       "      <th>CarInsurance</th>\n",
       "      <th>CallDuration</th>\n",
       "    </tr>\n",
       "  </thead>\n",
       "  <tbody>\n",
       "    <tr>\n",
       "      <th>3012</th>\n",
       "      <td>3013</td>\n",
       "      <td>38</td>\n",
       "      <td>unemployed</td>\n",
       "      <td>single</td>\n",
       "      <td>secondary</td>\n",
       "      <td>0</td>\n",
       "      <td>2470</td>\n",
       "      <td>1</td>\n",
       "      <td>0</td>\n",
       "      <td>cellular</td>\n",
       "      <td>4</td>\n",
       "      <td>feb</td>\n",
       "      <td>1</td>\n",
       "      <td>230</td>\n",
       "      <td>1</td>\n",
       "      <td>other</td>\n",
       "      <td>0</td>\n",
       "      <td>2.0</td>\n",
       "    </tr>\n",
       "    <tr>\n",
       "      <th>1436</th>\n",
       "      <td>1437</td>\n",
       "      <td>54</td>\n",
       "      <td>retired</td>\n",
       "      <td>divorced</td>\n",
       "      <td>tertiary</td>\n",
       "      <td>0</td>\n",
       "      <td>0</td>\n",
       "      <td>0</td>\n",
       "      <td>0</td>\n",
       "      <td>desconocido</td>\n",
       "      <td>13</td>\n",
       "      <td>may</td>\n",
       "      <td>1</td>\n",
       "      <td>-1</td>\n",
       "      <td>0</td>\n",
       "      <td>desconocido</td>\n",
       "      <td>1</td>\n",
       "      <td>10.0</td>\n",
       "    </tr>\n",
       "    <tr>\n",
       "      <th>96</th>\n",
       "      <td>97</td>\n",
       "      <td>48</td>\n",
       "      <td>management</td>\n",
       "      <td>divorced</td>\n",
       "      <td>tertiary</td>\n",
       "      <td>0</td>\n",
       "      <td>657</td>\n",
       "      <td>0</td>\n",
       "      <td>1</td>\n",
       "      <td>cellular</td>\n",
       "      <td>29</td>\n",
       "      <td>jan</td>\n",
       "      <td>2</td>\n",
       "      <td>-1</td>\n",
       "      <td>0</td>\n",
       "      <td>desconocido</td>\n",
       "      <td>0</td>\n",
       "      <td>4.0</td>\n",
       "    </tr>\n",
       "    <tr>\n",
       "      <th>43</th>\n",
       "      <td>44</td>\n",
       "      <td>40</td>\n",
       "      <td>admin.</td>\n",
       "      <td>married</td>\n",
       "      <td>secondary</td>\n",
       "      <td>0</td>\n",
       "      <td>2574</td>\n",
       "      <td>1</td>\n",
       "      <td>0</td>\n",
       "      <td>cellular</td>\n",
       "      <td>15</td>\n",
       "      <td>may</td>\n",
       "      <td>1</td>\n",
       "      <td>176</td>\n",
       "      <td>1</td>\n",
       "      <td>failure</td>\n",
       "      <td>1</td>\n",
       "      <td>7.0</td>\n",
       "    </tr>\n",
       "    <tr>\n",
       "      <th>1814</th>\n",
       "      <td>1815</td>\n",
       "      <td>43</td>\n",
       "      <td>management</td>\n",
       "      <td>married</td>\n",
       "      <td>tertiary</td>\n",
       "      <td>0</td>\n",
       "      <td>13015</td>\n",
       "      <td>1</td>\n",
       "      <td>0</td>\n",
       "      <td>cellular</td>\n",
       "      <td>21</td>\n",
       "      <td>nov</td>\n",
       "      <td>1</td>\n",
       "      <td>-1</td>\n",
       "      <td>0</td>\n",
       "      <td>desconocido</td>\n",
       "      <td>0</td>\n",
       "      <td>0.0</td>\n",
       "    </tr>\n",
       "    <tr>\n",
       "      <th>...</th>\n",
       "      <td>...</td>\n",
       "      <td>...</td>\n",
       "      <td>...</td>\n",
       "      <td>...</td>\n",
       "      <td>...</td>\n",
       "      <td>...</td>\n",
       "      <td>...</td>\n",
       "      <td>...</td>\n",
       "      <td>...</td>\n",
       "      <td>...</td>\n",
       "      <td>...</td>\n",
       "      <td>...</td>\n",
       "      <td>...</td>\n",
       "      <td>...</td>\n",
       "      <td>...</td>\n",
       "      <td>...</td>\n",
       "      <td>...</td>\n",
       "      <td>...</td>\n",
       "    </tr>\n",
       "    <tr>\n",
       "      <th>1130</th>\n",
       "      <td>1131</td>\n",
       "      <td>55</td>\n",
       "      <td>desconocido</td>\n",
       "      <td>married</td>\n",
       "      <td>tertiary</td>\n",
       "      <td>0</td>\n",
       "      <td>0</td>\n",
       "      <td>0</td>\n",
       "      <td>0</td>\n",
       "      <td>desconocido</td>\n",
       "      <td>5</td>\n",
       "      <td>jun</td>\n",
       "      <td>1</td>\n",
       "      <td>-1</td>\n",
       "      <td>0</td>\n",
       "      <td>desconocido</td>\n",
       "      <td>0</td>\n",
       "      <td>0.0</td>\n",
       "    </tr>\n",
       "    <tr>\n",
       "      <th>1294</th>\n",
       "      <td>1295</td>\n",
       "      <td>44</td>\n",
       "      <td>technician</td>\n",
       "      <td>married</td>\n",
       "      <td>secondary</td>\n",
       "      <td>0</td>\n",
       "      <td>13761</td>\n",
       "      <td>1</td>\n",
       "      <td>0</td>\n",
       "      <td>desconocido</td>\n",
       "      <td>29</td>\n",
       "      <td>may</td>\n",
       "      <td>1</td>\n",
       "      <td>-1</td>\n",
       "      <td>0</td>\n",
       "      <td>desconocido</td>\n",
       "      <td>0</td>\n",
       "      <td>1.0</td>\n",
       "    </tr>\n",
       "    <tr>\n",
       "      <th>860</th>\n",
       "      <td>861</td>\n",
       "      <td>41</td>\n",
       "      <td>blue-collar</td>\n",
       "      <td>married</td>\n",
       "      <td>primary</td>\n",
       "      <td>0</td>\n",
       "      <td>246</td>\n",
       "      <td>0</td>\n",
       "      <td>0</td>\n",
       "      <td>desconocido</td>\n",
       "      <td>19</td>\n",
       "      <td>jun</td>\n",
       "      <td>3</td>\n",
       "      <td>-1</td>\n",
       "      <td>0</td>\n",
       "      <td>desconocido</td>\n",
       "      <td>1</td>\n",
       "      <td>11.0</td>\n",
       "    </tr>\n",
       "    <tr>\n",
       "      <th>3507</th>\n",
       "      <td>3508</td>\n",
       "      <td>33</td>\n",
       "      <td>technician</td>\n",
       "      <td>married</td>\n",
       "      <td>secondary</td>\n",
       "      <td>0</td>\n",
       "      <td>557</td>\n",
       "      <td>0</td>\n",
       "      <td>0</td>\n",
       "      <td>cellular</td>\n",
       "      <td>4</td>\n",
       "      <td>may</td>\n",
       "      <td>1</td>\n",
       "      <td>-1</td>\n",
       "      <td>0</td>\n",
       "      <td>desconocido</td>\n",
       "      <td>1</td>\n",
       "      <td>6.0</td>\n",
       "    </tr>\n",
       "    <tr>\n",
       "      <th>3174</th>\n",
       "      <td>3175</td>\n",
       "      <td>32</td>\n",
       "      <td>blue-collar</td>\n",
       "      <td>married</td>\n",
       "      <td>secondary</td>\n",
       "      <td>0</td>\n",
       "      <td>715</td>\n",
       "      <td>1</td>\n",
       "      <td>0</td>\n",
       "      <td>desconocido</td>\n",
       "      <td>8</td>\n",
       "      <td>may</td>\n",
       "      <td>2</td>\n",
       "      <td>-1</td>\n",
       "      <td>0</td>\n",
       "      <td>desconocido</td>\n",
       "      <td>0</td>\n",
       "      <td>1.0</td>\n",
       "    </tr>\n",
       "  </tbody>\n",
       "</table>\n",
       "<p>3000 rows × 18 columns</p>\n",
       "</div>"
      ],
      "text/plain": [
       "        Id  Age          Job   Marital  Education  Default  Balance  \\\n",
       "3012  3013   38   unemployed    single  secondary        0     2470   \n",
       "1436  1437   54      retired  divorced   tertiary        0        0   \n",
       "96      97   48   management  divorced   tertiary        0      657   \n",
       "43      44   40       admin.   married  secondary        0     2574   \n",
       "1814  1815   43   management   married   tertiary        0    13015   \n",
       "...    ...  ...          ...       ...        ...      ...      ...   \n",
       "1130  1131   55  desconocido   married   tertiary        0        0   \n",
       "1294  1295   44   technician   married  secondary        0    13761   \n",
       "860    861   41  blue-collar   married    primary        0      246   \n",
       "3507  3508   33   technician   married  secondary        0      557   \n",
       "3174  3175   32  blue-collar   married  secondary        0      715   \n",
       "\n",
       "      HHInsurance  CarLoan Communication  LastContactDay LastContactMonth  \\\n",
       "3012            1        0      cellular               4              feb   \n",
       "1436            0        0   desconocido              13              may   \n",
       "96              0        1      cellular              29              jan   \n",
       "43              1        0      cellular              15              may   \n",
       "1814            1        0      cellular              21              nov   \n",
       "...           ...      ...           ...             ...              ...   \n",
       "1130            0        0   desconocido               5              jun   \n",
       "1294            1        0   desconocido              29              may   \n",
       "860             0        0   desconocido              19              jun   \n",
       "3507            0        0      cellular               4              may   \n",
       "3174            1        0   desconocido               8              may   \n",
       "\n",
       "      NoOfContacts  DaysPassed  PrevAttempts      Outcome  CarInsurance  \\\n",
       "3012             1         230             1        other             0   \n",
       "1436             1          -1             0  desconocido             1   \n",
       "96               2          -1             0  desconocido             0   \n",
       "43               1         176             1      failure             1   \n",
       "1814             1          -1             0  desconocido             0   \n",
       "...            ...         ...           ...          ...           ...   \n",
       "1130             1          -1             0  desconocido             0   \n",
       "1294             1          -1             0  desconocido             0   \n",
       "860              3          -1             0  desconocido             1   \n",
       "3507             1          -1             0  desconocido             1   \n",
       "3174             2          -1             0  desconocido             0   \n",
       "\n",
       "      CallDuration  \n",
       "3012           2.0  \n",
       "1436          10.0  \n",
       "96             4.0  \n",
       "43             7.0  \n",
       "1814           0.0  \n",
       "...            ...  \n",
       "1130           0.0  \n",
       "1294           1.0  \n",
       "860           11.0  \n",
       "3507           6.0  \n",
       "3174           1.0  \n",
       "\n",
       "[3000 rows x 18 columns]"
      ]
     },
     "execution_count": 77,
     "metadata": {},
     "output_type": "execute_result"
    }
   ],
   "source": [
    "data= pd.read_csv('/home/dsc/Documents/Kschool/16_Tutoria_proyectos_1/archive/carInsurance_train.csv')\n",
    "data['CallDuration']=(pd.to_datetime(arg=data['CallEnd'],format='%H:%M:%S') -\n",
    "                      pd.to_datetime(arg=data['CallStart'],format='%H:%M:%S')).astype('timedelta64[m]')\n",
    "data = data.replace(np.nan, 'desconocido', regex=True)\n",
    "data = data.drop(labels=['CallEnd','CallStart'], axis=1)\n",
    "\n",
    "data_train, data_test = train_test_split(data, random_state=42)\n",
    "data_train"
   ]
  },
  {
   "cell_type": "code",
   "execution_count": 108,
   "id": "17383691",
   "metadata": {},
   "outputs": [],
   "source": [
    "X_train=data_train.drop(labels=['CarInsurance','Id'], axis=1)\n",
    "y_train=data_train['CarInsurance']\n",
    "\n",
    "X_test=data_test.drop(labels=['CarInsurance','Id'], axis=1)\n",
    "y_test=data_test['CarInsurance']"
   ]
  },
  {
   "cell_type": "code",
   "execution_count": 109,
   "id": "96fe57f7",
   "metadata": {},
   "outputs": [],
   "source": [
    "from sklearn.compose import ColumnTransformer\n",
    "from sklearn.preprocessing import StandardScaler\n",
    "\n",
    "number_columns = X_train.select_dtypes('number').columns\n",
    "\n",
    "t=[('Job', \n",
    "                         OneHotEncoder(handle_unknown='ignore'),\n",
    "                         ['Job']),\n",
    "                        ('Marital', \n",
    "                         OneHotEncoder(handle_unknown='ignore'),\n",
    "                         ['Marital']),\n",
    "                        ('Education', \n",
    "                         OneHotEncoder(handle_unknown='ignore'),\n",
    "                         ['Education']),\n",
    "                        ('Communication', \n",
    "                         OneHotEncoder(handle_unknown='ignore'),\n",
    "                         ['Communication']),\n",
    "                        ('Outcome', \n",
    "                         OneHotEncoder(handle_unknown='ignore'),\n",
    "                         ['Outcome']),\n",
    "                        ('LastContactMonth', \n",
    "                         OneHotEncoder(handle_unknown='ignore'),\n",
    "                         ['LastContactMonth']),\n",
    "                      ('scaler', StandardScaler(),number_columns)\n",
    "                          ]\n",
    "\n",
    "ct = ColumnTransformer(transformers=t, remainder='passthrough')\n",
    "\n",
    "X_train=ct.fit_transform(X_train)"
   ]
  },
  {
   "cell_type": "code",
   "execution_count": 85,
   "id": "28c95a62",
   "metadata": {},
   "outputs": [],
   "source": [
    "from sklearn.linear_model import LogisticRegression\n"
   ]
  },
  {
   "cell_type": "code",
   "execution_count": 110,
   "id": "b4f50a2c",
   "metadata": {},
   "outputs": [
    {
     "data": {
      "text/plain": [
       "LogisticRegression()"
      ]
     },
     "execution_count": 110,
     "metadata": {},
     "output_type": "execute_result"
    }
   ],
   "source": [
    "lr = LogisticRegression()\n",
    "lr.fit(X_train, y_train)"
   ]
  },
  {
   "cell_type": "code",
   "execution_count": 111,
   "id": "b0cfa200",
   "metadata": {},
   "outputs": [],
   "source": [
    "X_test=ct.fit_transform(X_test)\n",
    "y_pred = lr.predict(X_test)"
   ]
  },
  {
   "cell_type": "code",
   "execution_count": 112,
   "id": "643ad5e3",
   "metadata": {},
   "outputs": [
    {
     "data": {
      "text/plain": [
       "array([[528,  70],\n",
       "       [101, 301]])"
      ]
     },
     "execution_count": 112,
     "metadata": {},
     "output_type": "execute_result"
    }
   ],
   "source": [
    "metrics.confusion_matrix(y_test, y_pred)"
   ]
  },
  {
   "cell_type": "code",
   "execution_count": 113,
   "id": "a1f74183",
   "metadata": {},
   "outputs": [
    {
     "data": {
      "text/plain": [
       "0.778783958602846"
      ]
     },
     "execution_count": 113,
     "metadata": {},
     "output_type": "execute_result"
    }
   ],
   "source": [
    "metrics.f1_score(y_test,y_pred)"
   ]
  },
  {
   "cell_type": "code",
   "execution_count": 114,
   "id": "f7d451f6",
   "metadata": {},
   "outputs": [],
   "source": [
    "from sklearn.tree import DecisionTreeClassifier\n"
   ]
  },
  {
   "cell_type": "code",
   "execution_count": 136,
   "id": "a695569e",
   "metadata": {},
   "outputs": [
    {
     "data": {
      "text/plain": [
       "DecisionTreeClassifier(max_depth=5)"
      ]
     },
     "execution_count": 136,
     "metadata": {},
     "output_type": "execute_result"
    }
   ],
   "source": [
    "dt = DecisionTreeClassifier(max_depth=5)\n",
    "dt.fit(X_train, y_train)"
   ]
  },
  {
   "cell_type": "code",
   "execution_count": 137,
   "id": "bd7751b0",
   "metadata": {},
   "outputs": [],
   "source": [
    "y_pred = dt.predict(X_test)"
   ]
  },
  {
   "cell_type": "code",
   "execution_count": 138,
   "id": "ad19cdab",
   "metadata": {},
   "outputs": [
    {
     "data": {
      "text/plain": [
       "0.7565714285714286"
      ]
     },
     "execution_count": 138,
     "metadata": {},
     "output_type": "execute_result"
    }
   ],
   "source": [
    "metrics.f1_score(y_test,y_pred)"
   ]
  },
  {
   "cell_type": "code",
   "execution_count": 140,
   "id": "16c3ad1a",
   "metadata": {},
   "outputs": [],
   "source": [
    "from sklearn.svm import SVC"
   ]
  },
  {
   "cell_type": "code",
   "execution_count": 147,
   "id": "98203738",
   "metadata": {},
   "outputs": [
    {
     "data": {
      "text/plain": [
       "SVC(degree=2, kernel='poly', probability=True)"
      ]
     },
     "execution_count": 147,
     "metadata": {},
     "output_type": "execute_result"
    }
   ],
   "source": [
    "sv = SVC(probability=True, kernel='poly', degree=2)\n",
    "sv.fit(X_train, y_train)"
   ]
  },
  {
   "cell_type": "code",
   "execution_count": 148,
   "id": "039010a1",
   "metadata": {},
   "outputs": [],
   "source": [
    "y_pred = sv.predict(X_test)"
   ]
  },
  {
   "cell_type": "code",
   "execution_count": 149,
   "id": "703a5cc7",
   "metadata": {},
   "outputs": [
    {
     "data": {
      "text/plain": [
       "0.788627935723115"
      ]
     },
     "execution_count": 149,
     "metadata": {},
     "output_type": "execute_result"
    }
   ],
   "source": [
    "metrics.f1_score(y_test,y_pred)"
   ]
  },
  {
   "cell_type": "code",
   "execution_count": null,
   "id": "f48808cb",
   "metadata": {},
   "outputs": [],
   "source": []
  }
 ],
 "metadata": {
  "kernelspec": {
   "display_name": "Python 3",
   "language": "python",
   "name": "python3"
  },
  "language_info": {
   "codemirror_mode": {
    "name": "ipython",
    "version": 3
   },
   "file_extension": ".py",
   "mimetype": "text/x-python",
   "name": "python",
   "nbconvert_exporter": "python",
   "pygments_lexer": "ipython3",
   "version": "3.9.5"
  }
 },
 "nbformat": 4,
 "nbformat_minor": 5
}
